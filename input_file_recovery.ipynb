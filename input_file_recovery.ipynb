{
 "cells": [
  {
   "cell_type": "markdown",
   "metadata": {},
   "source": [
    "# Recovery Notebook"
   ]
  },
  {
   "cell_type": "markdown",
   "metadata": {},
   "source": [
    "This notebook is for scraping the data from the input json files of the users to determine what remaining errors they left in each scenario"
   ]
  },
  {
   "cell_type": "markdown",
   "metadata": {},
   "source": [
    "## Imports"
   ]
  },
  {
   "cell_type": "code",
   "execution_count": 2,
   "metadata": {},
   "outputs": [],
   "source": [
    "import json\n",
    "import os\n",
    "import numpy as np\n",
    "import pandas as pd"
   ]
  },
  {
   "cell_type": "markdown",
   "metadata": {},
   "source": [
    "## Import Data"
   ]
  },
  {
   "cell_type": "markdown",
   "metadata": {},
   "source": [
    "### Ground Truth Values"
   ]
  },
  {
   "cell_type": "code",
   "execution_count": 51,
   "metadata": {},
   "outputs": [
    {
     "name": "stdout",
     "output_type": "stream",
     "text": [
      "[[5000 1500 2500]\n",
      " [   0    0    1]\n",
      " [   0    1    1]\n",
      " [   1    1    0]]\n",
      "[[4200 1200  500  195  140 2000    0]\n",
      " [   0    0    0    1    1    0    0]\n",
      " [   0    1    1    0    0    1    1]\n",
      " [   1    0    0    0    0    0    0]]\n",
      "[0.4 0.7 0.8]\n"
     ]
    }
   ],
   "source": [
    "Q = [[5000, 1500, 2500], [0, 0, 1], [0, 1, 1], [1, 1, 0]]\n",
    "Q = np.asarray(Q)\n",
    "\n",
    "Y = [[4200, 1200, 500, 195, 140, 2000, 0], [0, 0, 0, 1, 1, 0, 0], [0, 1, 1, 0, 0, 1, 1], [1, 0, 0, 0, 0, 0, 0]]\n",
    "Y = np.asarray(Y)\n",
    "\n",
    "speed = [0.4, 0.7, 0.8]\n",
    "speed = np.asarray(speed)\n",
    "\n",
    "print(Q)\n",
    "print(Y)\n",
    "print(speed)"
   ]
  },
  {
   "cell_type": "markdown",
   "metadata": {},
   "source": [
    "### Initialize DataFrame"
   ]
  },
  {
   "cell_type": "code",
   "execution_count": 43,
   "metadata": {},
   "outputs": [],
   "source": [
    "data = pd.DataFrame(columns=['id', 'study_condition','scenario', 'Q_errors', 'Y_errors', 'speed_errors'])"
   ]
  },
  {
   "cell_type": "markdown",
   "metadata": {},
   "source": [
    "### Get User Ids"
   ]
  },
  {
   "cell_type": "code",
   "execution_count": 44,
   "metadata": {},
   "outputs": [
    {
     "name": "stdout",
     "output_type": "stream",
     "text": [
      "['10552', '17510', '20038', '21356', '22388', '25858', '31493', '48765', '61352', '63191', '75187', '80131', '86884', '89175', '89194', '99983']\n"
     ]
    }
   ],
   "source": [
    "directory = os.fsencode('user_data/user_json/')\n",
    "ids = [id.decode() for id in os.listdir(directory)]\n",
    "\n",
    "print(ids)"
   ]
  },
  {
   "cell_type": "code",
   "execution_count": 67,
   "metadata": {},
   "outputs": [
    {
     "name": "stdout",
     "output_type": "stream",
     "text": [
      "10552\n",
      "17510\n",
      "20038\n",
      "21356\n",
      "22388\n",
      "25858\n",
      "31493\n",
      "48765\n",
      "61352\n",
      "63191\n",
      "75187\n",
      "80131\n",
      "86884\n",
      "89175\n",
      "89194\n",
      "99983\n"
     ]
    }
   ],
   "source": [
    "index = 0\n",
    "\n",
    "scenarios = ['low_2', 'low_4', 'low_5', 'low_6']\n",
    "\n",
    "# Add loop for each id\n",
    "files = os.listdir(directory.decode()+ids[0])\n",
    "\n",
    "for id in ids:\n",
    "    print(id)\n",
    "    # Go through every file for a participant\n",
    "    for file in files:\n",
    "        # Skip No-Error Scenarios\n",
    "        if not any(map(file.__contains__, scenarios)):\n",
    "            continue\n",
    "        \n",
    "        # Save the scenario name\n",
    "        for scenario in scenarios:\n",
    "            if scenario in file:\n",
    "                scenario_name = scenario\n",
    "        \n",
    "        with open('user_data/' + id + '.json') as f:\n",
    "            d = json.load(f)\n",
    "            study_condition = d[id]['warmup_1']['study_condition']\n",
    "        \n",
    "        # Import data from json file\n",
    "        with open(directory.decode()+ids[0]+'/'+file) as f:\n",
    "            d = json.load(f)\n",
    "        \n",
    "        Q_errors = 0\n",
    "        Y_errors = 0\n",
    "        speed_errors = 0\n",
    "        \n",
    "        for i, specie in enumerate(d['species']):\n",
    "            # Check Species Traits\n",
    "            if np.count_nonzero(specie['traits'] - Q[:, i]):\n",
    "                Q_errors = Q_errors + 1\n",
    "                \n",
    "            # Check Species Speed    \n",
    "            if np.count_nonzero(specie['speed'] - speed[i]):\n",
    "                speed_errors = speed_errors + 1\n",
    "            \n",
    "        for i, task in enumerate(d['tasks']):\n",
    "            # Check Task Requirements  \n",
    "            if np.count_nonzero(task['desired_traits'] - Y[:, i]):\n",
    "                Y_errors = Y_errors + 1\n",
    "        \n",
    "        data.loc[index] = [id, study_condition, scenario_name, Q_errors, Y_errors, speed_errors]\n",
    "        index = index + 1\n"
   ]
  },
  {
   "cell_type": "code",
   "execution_count": 68,
   "metadata": {},
   "outputs": [
    {
     "data": {
      "text/html": [
       "<div>\n",
       "<style scoped>\n",
       "    .dataframe tbody tr th:only-of-type {\n",
       "        vertical-align: middle;\n",
       "    }\n",
       "\n",
       "    .dataframe tbody tr th {\n",
       "        vertical-align: top;\n",
       "    }\n",
       "\n",
       "    .dataframe thead th {\n",
       "        text-align: right;\n",
       "    }\n",
       "</style>\n",
       "<table border=\"1\" class=\"dataframe\">\n",
       "  <thead>\n",
       "    <tr style=\"text-align: right;\">\n",
       "      <th></th>\n",
       "      <th>id</th>\n",
       "      <th>study_condition</th>\n",
       "      <th>scenario</th>\n",
       "      <th>Q_errors</th>\n",
       "      <th>Y_errors</th>\n",
       "      <th>speed_errors</th>\n",
       "    </tr>\n",
       "  </thead>\n",
       "  <tbody>\n",
       "    <tr>\n",
       "      <th>0</th>\n",
       "      <td>10552</td>\n",
       "      <td>1</td>\n",
       "      <td>low_5</td>\n",
       "      <td>0</td>\n",
       "      <td>3</td>\n",
       "      <td>0</td>\n",
       "    </tr>\n",
       "    <tr>\n",
       "      <th>1</th>\n",
       "      <td>10552</td>\n",
       "      <td>1</td>\n",
       "      <td>low_6</td>\n",
       "      <td>2</td>\n",
       "      <td>0</td>\n",
       "      <td>2</td>\n",
       "    </tr>\n",
       "    <tr>\n",
       "      <th>2</th>\n",
       "      <td>10552</td>\n",
       "      <td>1</td>\n",
       "      <td>low_4</td>\n",
       "      <td>1</td>\n",
       "      <td>1</td>\n",
       "      <td>1</td>\n",
       "    </tr>\n",
       "    <tr>\n",
       "      <th>3</th>\n",
       "      <td>10552</td>\n",
       "      <td>1</td>\n",
       "      <td>low_2</td>\n",
       "      <td>2</td>\n",
       "      <td>1</td>\n",
       "      <td>1</td>\n",
       "    </tr>\n",
       "    <tr>\n",
       "      <th>4</th>\n",
       "      <td>17510</td>\n",
       "      <td>2</td>\n",
       "      <td>low_5</td>\n",
       "      <td>0</td>\n",
       "      <td>3</td>\n",
       "      <td>0</td>\n",
       "    </tr>\n",
       "    <tr>\n",
       "      <th>...</th>\n",
       "      <td>...</td>\n",
       "      <td>...</td>\n",
       "      <td>...</td>\n",
       "      <td>...</td>\n",
       "      <td>...</td>\n",
       "      <td>...</td>\n",
       "    </tr>\n",
       "    <tr>\n",
       "      <th>59</th>\n",
       "      <td>89194</td>\n",
       "      <td>1</td>\n",
       "      <td>low_2</td>\n",
       "      <td>2</td>\n",
       "      <td>1</td>\n",
       "      <td>1</td>\n",
       "    </tr>\n",
       "    <tr>\n",
       "      <th>60</th>\n",
       "      <td>99983</td>\n",
       "      <td>2</td>\n",
       "      <td>low_5</td>\n",
       "      <td>0</td>\n",
       "      <td>3</td>\n",
       "      <td>0</td>\n",
       "    </tr>\n",
       "    <tr>\n",
       "      <th>61</th>\n",
       "      <td>99983</td>\n",
       "      <td>2</td>\n",
       "      <td>low_6</td>\n",
       "      <td>2</td>\n",
       "      <td>0</td>\n",
       "      <td>2</td>\n",
       "    </tr>\n",
       "    <tr>\n",
       "      <th>62</th>\n",
       "      <td>99983</td>\n",
       "      <td>2</td>\n",
       "      <td>low_4</td>\n",
       "      <td>1</td>\n",
       "      <td>1</td>\n",
       "      <td>1</td>\n",
       "    </tr>\n",
       "    <tr>\n",
       "      <th>63</th>\n",
       "      <td>99983</td>\n",
       "      <td>2</td>\n",
       "      <td>low_2</td>\n",
       "      <td>2</td>\n",
       "      <td>1</td>\n",
       "      <td>1</td>\n",
       "    </tr>\n",
       "  </tbody>\n",
       "</table>\n",
       "<p>64 rows × 6 columns</p>\n",
       "</div>"
      ],
      "text/plain": [
       "       id  study_condition scenario  Q_errors  Y_errors  speed_errors\n",
       "0   10552                1    low_5         0         3             0\n",
       "1   10552                1    low_6         2         0             2\n",
       "2   10552                1    low_4         1         1             1\n",
       "3   10552                1    low_2         2         1             1\n",
       "4   17510                2    low_5         0         3             0\n",
       "..    ...              ...      ...       ...       ...           ...\n",
       "59  89194                1    low_2         2         1             1\n",
       "60  99983                2    low_5         0         3             0\n",
       "61  99983                2    low_6         2         0             2\n",
       "62  99983                2    low_4         1         1             1\n",
       "63  99983                2    low_2         2         1             1\n",
       "\n",
       "[64 rows x 6 columns]"
      ]
     },
     "execution_count": 68,
     "metadata": {},
     "output_type": "execute_result"
    }
   ],
   "source": [
    "data"
   ]
  },
  {
   "cell_type": "markdown",
   "metadata": {},
   "source": [
    "# Analyze Data"
   ]
  },
  {
   "cell_type": "code",
   "execution_count": 81,
   "metadata": {},
   "outputs": [
    {
     "name": "stdout",
     "output_type": "stream",
     "text": [
      "       id  study_condition scenario  Q_errors  Y_errors  speed_errors\n",
      "4   17510                2    low_5         0         3             0\n",
      "5   17510                2    low_6         2         0             2\n",
      "6   17510                2    low_4         1         1             1\n",
      "7   17510                2    low_2         2         1             1\n",
      "8   20038                2    low_5         0         3             0\n",
      "9   20038                2    low_6         2         0             2\n",
      "10  20038                2    low_4         1         1             1\n",
      "11  20038                2    low_2         2         1             1\n",
      "16  22388                2    low_5         0         3             0\n",
      "17  22388                2    low_6         2         0             2\n",
      "18  22388                2    low_4         1         1             1\n",
      "19  22388                2    low_2         2         1             1\n",
      "20  25858                2    low_5         0         3             0\n",
      "21  25858                2    low_6         2         0             2\n",
      "22  25858                2    low_4         1         1             1\n",
      "23  25858                2    low_2         2         1             1\n",
      "28  48765                2    low_5         0         3             0\n",
      "29  48765                2    low_6         2         0             2\n",
      "30  48765                2    low_4         1         1             1\n",
      "31  48765                2    low_2         2         1             1\n",
      "48  86884                2    low_5         0         3             0\n",
      "49  86884                2    low_6         2         0             2\n",
      "50  86884                2    low_4         1         1             1\n",
      "51  86884                2    low_2         2         1             1\n",
      "52  89175                2    low_5         0         3             0\n",
      "53  89175                2    low_6         2         0             2\n",
      "54  89175                2    low_4         1         1             1\n",
      "55  89175                2    low_2         2         1             1\n",
      "60  99983                2    low_5         0         3             0\n",
      "61  99983                2    low_6         2         0             2\n",
      "62  99983                2    low_4         1         1             1\n",
      "63  99983                2    low_2         2         1             1\n"
     ]
    }
   ],
   "source": [
    "study_condition_1 = data[data['study_condition'] == 1]\n",
    "study_condition_2 = data[data['study_condition'] == 2]\n",
    "\n",
    "print(study_condition_2)"
   ]
  },
  {
   "cell_type": "code",
   "execution_count": 76,
   "metadata": {},
   "outputs": [
    {
     "name": "stdout",
     "output_type": "stream",
     "text": [
      "1.25\n",
      "1.25\n",
      "1.0\n"
     ]
    }
   ],
   "source": [
    "print(np.average(study_condition_1['Q_errors'].tolist()))\n",
    "print(np.average(study_condition_1['Y_errors'].tolist()))\n",
    "print(np.average(study_condition_1['speed_errors'].tolist()))"
   ]
  },
  {
   "cell_type": "code",
   "execution_count": 77,
   "metadata": {},
   "outputs": [
    {
     "name": "stdout",
     "output_type": "stream",
     "text": [
      "1.25\n",
      "1.25\n",
      "1.0\n"
     ]
    }
   ],
   "source": [
    "print(np.average(study_condition_2['Q_errors'].tolist()))\n",
    "print(np.average(study_condition_2['Y_errors'].tolist()))\n",
    "print(np.average(study_condition_2['speed_errors'].tolist()))"
   ]
  },
  {
   "cell_type": "code",
   "execution_count": null,
   "metadata": {},
   "outputs": [],
   "source": []
  },
  {
   "cell_type": "code",
   "execution_count": null,
   "metadata": {},
   "outputs": [],
   "source": [
    "for scenario in "
   ]
  }
 ],
 "metadata": {
  "kernelspec": {
   "display_name": "Python 3",
   "language": "python",
   "name": "python3"
  },
  "language_info": {
   "codemirror_mode": {
    "name": "ipython",
    "version": 3
   },
   "file_extension": ".py",
   "mimetype": "text/x-python",
   "name": "python",
   "nbconvert_exporter": "python",
   "pygments_lexer": "ipython3",
   "version": "3.11.7"
  }
 },
 "nbformat": 4,
 "nbformat_minor": 2
}
